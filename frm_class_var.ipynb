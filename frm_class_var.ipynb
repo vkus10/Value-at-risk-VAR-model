{
 "cells": [
  {
   "cell_type": "code",
   "execution_count": 1,
   "id": "3befbbbc",
   "metadata": {},
   "outputs": [],
   "source": [
    "import numpy as np\n",
    "import pandas as pd\n",
    "import math"
   ]
  },
  {
   "cell_type": "code",
   "execution_count": 2,
   "id": "3f1d3cc2",
   "metadata": {},
   "outputs": [
    {
     "data": {
      "text/html": [
       "<div>\n",
       "<style scoped>\n",
       "    .dataframe tbody tr th:only-of-type {\n",
       "        vertical-align: middle;\n",
       "    }\n",
       "\n",
       "    .dataframe tbody tr th {\n",
       "        vertical-align: top;\n",
       "    }\n",
       "\n",
       "    .dataframe thead th {\n",
       "        text-align: right;\n",
       "    }\n",
       "</style>\n",
       "<table border=\"1\" class=\"dataframe\">\n",
       "  <thead>\n",
       "    <tr style=\"text-align: right;\">\n",
       "      <th></th>\n",
       "      <th>Day</th>\n",
       "      <th>1</th>\n",
       "      <th>2</th>\n",
       "      <th>3</th>\n",
       "    </tr>\n",
       "  </thead>\n",
       "  <tbody>\n",
       "    <tr>\n",
       "      <th>248</th>\n",
       "      <td>249</td>\n",
       "      <td>0.0637</td>\n",
       "      <td>0.0692</td>\n",
       "      <td>0.0706</td>\n",
       "    </tr>\n",
       "    <tr>\n",
       "      <th>249</th>\n",
       "      <td>250</td>\n",
       "      <td>0.0660</td>\n",
       "      <td>0.0677</td>\n",
       "      <td>0.0708</td>\n",
       "    </tr>\n",
       "    <tr>\n",
       "      <th>250</th>\n",
       "      <td>251</td>\n",
       "      <td>0.0656</td>\n",
       "      <td>0.0728</td>\n",
       "      <td>0.0732</td>\n",
       "    </tr>\n",
       "    <tr>\n",
       "      <th>251</th>\n",
       "      <td>252</td>\n",
       "      <td>0.0631</td>\n",
       "      <td>0.0746</td>\n",
       "      <td>0.0719</td>\n",
       "    </tr>\n",
       "    <tr>\n",
       "      <th>252</th>\n",
       "      <td>Today</td>\n",
       "      <td>0.0620</td>\n",
       "      <td>0.0660</td>\n",
       "      <td>0.0700</td>\n",
       "    </tr>\n",
       "  </tbody>\n",
       "</table>\n",
       "</div>"
      ],
      "text/plain": [
       "       Day       1       2       3\n",
       "248    249  0.0637  0.0692  0.0706\n",
       "249    250  0.0660  0.0677  0.0708\n",
       "250    251  0.0656  0.0728  0.0732\n",
       "251    252  0.0631  0.0746  0.0719\n",
       "252  Today  0.0620  0.0660  0.0700"
      ]
     },
     "execution_count": 2,
     "metadata": {},
     "output_type": "execute_result"
    }
   ],
   "source": [
    "data= pd.read_csv(r\"C:\\Users\\HP\\Downloads\\HS_VaR.csv\")\n",
    "df=pd.DataFrame(data=data)\n",
    "df.tail()"
   ]
  },
  {
   "cell_type": "code",
   "execution_count": 3,
   "id": "c8d8828f",
   "metadata": {},
   "outputs": [
    {
     "data": {
      "text/html": [
       "<div>\n",
       "<style scoped>\n",
       "    .dataframe tbody tr th:only-of-type {\n",
       "        vertical-align: middle;\n",
       "    }\n",
       "\n",
       "    .dataframe tbody tr th {\n",
       "        vertical-align: top;\n",
       "    }\n",
       "\n",
       "    .dataframe thead th {\n",
       "        text-align: right;\n",
       "    }\n",
       "</style>\n",
       "<table border=\"1\" class=\"dataframe\">\n",
       "  <thead>\n",
       "    <tr style=\"text-align: right;\">\n",
       "      <th></th>\n",
       "      <th>Day</th>\n",
       "      <th>1</th>\n",
       "      <th>2</th>\n",
       "      <th>3</th>\n",
       "    </tr>\n",
       "  </thead>\n",
       "  <tbody>\n",
       "    <tr>\n",
       "      <th>0</th>\n",
       "      <td>1</td>\n",
       "      <td>0.0600</td>\n",
       "      <td>0.0650</td>\n",
       "      <td>0.0700</td>\n",
       "    </tr>\n",
       "    <tr>\n",
       "      <th>1</th>\n",
       "      <td>2</td>\n",
       "      <td>0.0649</td>\n",
       "      <td>0.0747</td>\n",
       "      <td>0.0737</td>\n",
       "    </tr>\n",
       "    <tr>\n",
       "      <th>2</th>\n",
       "      <td>3</td>\n",
       "      <td>0.0693</td>\n",
       "      <td>0.0698</td>\n",
       "      <td>0.0701</td>\n",
       "    </tr>\n",
       "    <tr>\n",
       "      <th>3</th>\n",
       "      <td>4</td>\n",
       "      <td>0.0610</td>\n",
       "      <td>0.0712</td>\n",
       "      <td>0.0756</td>\n",
       "    </tr>\n",
       "    <tr>\n",
       "      <th>4</th>\n",
       "      <td>5</td>\n",
       "      <td>0.0600</td>\n",
       "      <td>0.0724</td>\n",
       "      <td>0.0766</td>\n",
       "    </tr>\n",
       "  </tbody>\n",
       "</table>\n",
       "</div>"
      ],
      "text/plain": [
       "  Day       1       2       3\n",
       "0   1  0.0600  0.0650  0.0700\n",
       "1   2  0.0649  0.0747  0.0737\n",
       "2   3  0.0693  0.0698  0.0701\n",
       "3   4  0.0610  0.0712  0.0756\n",
       "4   5  0.0600  0.0724  0.0766"
      ]
     },
     "execution_count": 3,
     "metadata": {},
     "output_type": "execute_result"
    }
   ],
   "source": [
    "df= df.dropna()\n",
    "df.head()"
   ]
  },
  {
   "cell_type": "code",
   "execution_count": 4,
   "id": "d5ab913c",
   "metadata": {},
   "outputs": [
    {
     "data": {
      "text/html": [
       "<div>\n",
       "<style scoped>\n",
       "    .dataframe tbody tr th:only-of-type {\n",
       "        vertical-align: middle;\n",
       "    }\n",
       "\n",
       "    .dataframe tbody tr th {\n",
       "        vertical-align: top;\n",
       "    }\n",
       "\n",
       "    .dataframe thead th {\n",
       "        text-align: right;\n",
       "    }\n",
       "</style>\n",
       "<table border=\"1\" class=\"dataframe\">\n",
       "  <thead>\n",
       "    <tr style=\"text-align: right;\">\n",
       "      <th></th>\n",
       "      <th>Day</th>\n",
       "      <th>1</th>\n",
       "      <th>2</th>\n",
       "      <th>3</th>\n",
       "    </tr>\n",
       "  </thead>\n",
       "  <tbody>\n",
       "    <tr>\n",
       "      <th>252</th>\n",
       "      <td>Today</td>\n",
       "      <td>0.062</td>\n",
       "      <td>0.066</td>\n",
       "      <td>0.07</td>\n",
       "    </tr>\n",
       "  </tbody>\n",
       "</table>\n",
       "</div>"
      ],
      "text/plain": [
       "       Day      1      2     3\n",
       "252  Today  0.062  0.066  0.07"
      ]
     },
     "execution_count": 4,
     "metadata": {},
     "output_type": "execute_result"
    }
   ],
   "source": [
    "df_EoD = pd.DataFrame(df.tail(1))\n",
    "df_EoD"
   ]
  },
  {
   "cell_type": "code",
   "execution_count": 5,
   "id": "6b343d8b",
   "metadata": {},
   "outputs": [],
   "source": [
    "#bond parameters\n",
    "FV = 100\n",
    "T = 3\n",
    "coupon = 5\n",
    "Freq = \"Annual\""
   ]
  },
  {
   "cell_type": "code",
   "execution_count": 6,
   "id": "d94c9756",
   "metadata": {},
   "outputs": [],
   "source": [
    "#Bond pricing today\n",
    "pv_coupons = coupon*(math.exp(-1*df_EoD.iloc[0,1])+math.exp(-2*df_EoD.iloc[0,2])+math.exp(-3*df_EoD.iloc[0,3]))\n",
    "pv_facevalue = FV* math.exp(-3* df_EoD.iloc[0,3])\n",
    "mtm_today = pv_coupons+pv_facevalue"
   ]
  },
  {
   "cell_type": "code",
   "execution_count": 7,
   "id": "dd84c30c",
   "metadata": {},
   "outputs": [
    {
     "data": {
      "text/plain": [
       "94.19246523622196"
      ]
     },
     "execution_count": 7,
     "metadata": {},
     "output_type": "execute_result"
    }
   ],
   "source": [
    "mtm_today"
   ]
  },
  {
   "cell_type": "code",
   "execution_count": 8,
   "id": "d6c07074",
   "metadata": {},
   "outputs": [
    {
     "data": {
      "text/html": [
       "<div>\n",
       "<style scoped>\n",
       "    .dataframe tbody tr th:only-of-type {\n",
       "        vertical-align: middle;\n",
       "    }\n",
       "\n",
       "    .dataframe tbody tr th {\n",
       "        vertical-align: top;\n",
       "    }\n",
       "\n",
       "    .dataframe thead th {\n",
       "        text-align: right;\n",
       "    }\n",
       "</style>\n",
       "<table border=\"1\" class=\"dataframe\">\n",
       "  <thead>\n",
       "    <tr style=\"text-align: right;\">\n",
       "      <th></th>\n",
       "      <th>Day</th>\n",
       "      <th>1</th>\n",
       "      <th>2</th>\n",
       "      <th>3</th>\n",
       "    </tr>\n",
       "  </thead>\n",
       "  <tbody>\n",
       "    <tr>\n",
       "      <th>0</th>\n",
       "      <td>1</td>\n",
       "      <td>0.0600</td>\n",
       "      <td>0.0650</td>\n",
       "      <td>0.0700</td>\n",
       "    </tr>\n",
       "    <tr>\n",
       "      <th>1</th>\n",
       "      <td>2</td>\n",
       "      <td>0.0649</td>\n",
       "      <td>0.0747</td>\n",
       "      <td>0.0737</td>\n",
       "    </tr>\n",
       "    <tr>\n",
       "      <th>2</th>\n",
       "      <td>3</td>\n",
       "      <td>0.0693</td>\n",
       "      <td>0.0698</td>\n",
       "      <td>0.0701</td>\n",
       "    </tr>\n",
       "    <tr>\n",
       "      <th>3</th>\n",
       "      <td>4</td>\n",
       "      <td>0.0610</td>\n",
       "      <td>0.0712</td>\n",
       "      <td>0.0756</td>\n",
       "    </tr>\n",
       "    <tr>\n",
       "      <th>4</th>\n",
       "      <td>5</td>\n",
       "      <td>0.0600</td>\n",
       "      <td>0.0724</td>\n",
       "      <td>0.0766</td>\n",
       "    </tr>\n",
       "  </tbody>\n",
       "</table>\n",
       "</div>"
      ],
      "text/plain": [
       "  Day       1       2       3\n",
       "0   1  0.0600  0.0650  0.0700\n",
       "1   2  0.0649  0.0747  0.0737\n",
       "2   3  0.0693  0.0698  0.0701\n",
       "3   4  0.0610  0.0712  0.0756\n",
       "4   5  0.0600  0.0724  0.0766"
      ]
     },
     "execution_count": 8,
     "metadata": {},
     "output_type": "execute_result"
    }
   ],
   "source": [
    "#simulation logic\n",
    "df= df[:-1]\n",
    "df.head()"
   ]
  },
  {
   "cell_type": "code",
   "execution_count": 9,
   "id": "e585302f",
   "metadata": {},
   "outputs": [
    {
     "data": {
      "text/html": [
       "<div>\n",
       "<style scoped>\n",
       "    .dataframe tbody tr th:only-of-type {\n",
       "        vertical-align: middle;\n",
       "    }\n",
       "\n",
       "    .dataframe tbody tr th {\n",
       "        vertical-align: top;\n",
       "    }\n",
       "\n",
       "    .dataframe thead th {\n",
       "        text-align: right;\n",
       "    }\n",
       "</style>\n",
       "<table border=\"1\" class=\"dataframe\">\n",
       "  <thead>\n",
       "    <tr style=\"text-align: right;\">\n",
       "      <th></th>\n",
       "      <th>1</th>\n",
       "      <th>2</th>\n",
       "      <th>3</th>\n",
       "    </tr>\n",
       "  </thead>\n",
       "  <tbody>\n",
       "    <tr>\n",
       "      <th>0</th>\n",
       "      <td>0.0600</td>\n",
       "      <td>0.0650</td>\n",
       "      <td>0.0700</td>\n",
       "    </tr>\n",
       "    <tr>\n",
       "      <th>1</th>\n",
       "      <td>0.0649</td>\n",
       "      <td>0.0747</td>\n",
       "      <td>0.0737</td>\n",
       "    </tr>\n",
       "    <tr>\n",
       "      <th>2</th>\n",
       "      <td>0.0693</td>\n",
       "      <td>0.0698</td>\n",
       "      <td>0.0701</td>\n",
       "    </tr>\n",
       "    <tr>\n",
       "      <th>3</th>\n",
       "      <td>0.0610</td>\n",
       "      <td>0.0712</td>\n",
       "      <td>0.0756</td>\n",
       "    </tr>\n",
       "    <tr>\n",
       "      <th>4</th>\n",
       "      <td>0.0600</td>\n",
       "      <td>0.0724</td>\n",
       "      <td>0.0766</td>\n",
       "    </tr>\n",
       "  </tbody>\n",
       "</table>\n",
       "</div>"
      ],
      "text/plain": [
       "        1       2       3\n",
       "0  0.0600  0.0650  0.0700\n",
       "1  0.0649  0.0747  0.0737\n",
       "2  0.0693  0.0698  0.0701\n",
       "3  0.0610  0.0712  0.0756\n",
       "4  0.0600  0.0724  0.0766"
      ]
     },
     "execution_count": 9,
     "metadata": {},
     "output_type": "execute_result"
    }
   ],
   "source": [
    "df= df.drop(df.columns[0],axis=1)\n",
    "df.head()"
   ]
  },
  {
   "cell_type": "code",
   "execution_count": 10,
   "id": "6c9e7e18",
   "metadata": {},
   "outputs": [
    {
     "data": {
      "text/html": [
       "<div>\n",
       "<style scoped>\n",
       "    .dataframe tbody tr th:only-of-type {\n",
       "        vertical-align: middle;\n",
       "    }\n",
       "\n",
       "    .dataframe tbody tr th {\n",
       "        vertical-align: top;\n",
       "    }\n",
       "\n",
       "    .dataframe thead th {\n",
       "        text-align: right;\n",
       "    }\n",
       "</style>\n",
       "<table border=\"1\" class=\"dataframe\">\n",
       "  <thead>\n",
       "    <tr style=\"text-align: right;\">\n",
       "      <th></th>\n",
       "      <th>1</th>\n",
       "      <th>2</th>\n",
       "      <th>3</th>\n",
       "    </tr>\n",
       "  </thead>\n",
       "  <tbody>\n",
       "    <tr>\n",
       "      <th>0</th>\n",
       "      <td>NaN</td>\n",
       "      <td>NaN</td>\n",
       "      <td>NaN</td>\n",
       "    </tr>\n",
       "    <tr>\n",
       "      <th>1</th>\n",
       "      <td>0.081667</td>\n",
       "      <td>0.149231</td>\n",
       "      <td>0.052857</td>\n",
       "    </tr>\n",
       "    <tr>\n",
       "      <th>2</th>\n",
       "      <td>0.067797</td>\n",
       "      <td>-0.065596</td>\n",
       "      <td>-0.048847</td>\n",
       "    </tr>\n",
       "    <tr>\n",
       "      <th>3</th>\n",
       "      <td>-0.119769</td>\n",
       "      <td>0.020057</td>\n",
       "      <td>0.078459</td>\n",
       "    </tr>\n",
       "    <tr>\n",
       "      <th>4</th>\n",
       "      <td>-0.016393</td>\n",
       "      <td>0.016854</td>\n",
       "      <td>0.013228</td>\n",
       "    </tr>\n",
       "  </tbody>\n",
       "</table>\n",
       "</div>"
      ],
      "text/plain": [
       "          1         2         3\n",
       "0       NaN       NaN       NaN\n",
       "1  0.081667  0.149231  0.052857\n",
       "2  0.067797 -0.065596 -0.048847\n",
       "3 -0.119769  0.020057  0.078459\n",
       "4 -0.016393  0.016854  0.013228"
      ]
     },
     "execution_count": 10,
     "metadata": {},
     "output_type": "execute_result"
    }
   ],
   "source": [
    "df = df.pct_change(1)\n",
    "df.head()"
   ]
  },
  {
   "cell_type": "code",
   "execution_count": 11,
   "id": "6332c938",
   "metadata": {},
   "outputs": [
    {
     "data": {
      "text/html": [
       "<div>\n",
       "<style scoped>\n",
       "    .dataframe tbody tr th:only-of-type {\n",
       "        vertical-align: middle;\n",
       "    }\n",
       "\n",
       "    .dataframe tbody tr th {\n",
       "        vertical-align: top;\n",
       "    }\n",
       "\n",
       "    .dataframe thead th {\n",
       "        text-align: right;\n",
       "    }\n",
       "</style>\n",
       "<table border=\"1\" class=\"dataframe\">\n",
       "  <thead>\n",
       "    <tr style=\"text-align: right;\">\n",
       "      <th></th>\n",
       "      <th>1</th>\n",
       "      <th>2</th>\n",
       "      <th>3</th>\n",
       "    </tr>\n",
       "  </thead>\n",
       "  <tbody>\n",
       "    <tr>\n",
       "      <th>0</th>\n",
       "      <td>NaN</td>\n",
       "      <td>NaN</td>\n",
       "      <td>NaN</td>\n",
       "    </tr>\n",
       "    <tr>\n",
       "      <th>1</th>\n",
       "      <td>1.081667</td>\n",
       "      <td>1.149231</td>\n",
       "      <td>1.052857</td>\n",
       "    </tr>\n",
       "    <tr>\n",
       "      <th>2</th>\n",
       "      <td>1.067797</td>\n",
       "      <td>0.934404</td>\n",
       "      <td>0.951153</td>\n",
       "    </tr>\n",
       "    <tr>\n",
       "      <th>3</th>\n",
       "      <td>0.880231</td>\n",
       "      <td>1.020057</td>\n",
       "      <td>1.078459</td>\n",
       "    </tr>\n",
       "    <tr>\n",
       "      <th>4</th>\n",
       "      <td>0.983607</td>\n",
       "      <td>1.016854</td>\n",
       "      <td>1.013228</td>\n",
       "    </tr>\n",
       "  </tbody>\n",
       "</table>\n",
       "</div>"
      ],
      "text/plain": [
       "          1         2         3\n",
       "0       NaN       NaN       NaN\n",
       "1  1.081667  1.149231  1.052857\n",
       "2  1.067797  0.934404  0.951153\n",
       "3  0.880231  1.020057  1.078459\n",
       "4  0.983607  1.016854  1.013228"
      ]
     },
     "execution_count": 11,
     "metadata": {},
     "output_type": "execute_result"
    }
   ],
   "source": [
    "df = df + 1\n",
    "df.head()"
   ]
  },
  {
   "cell_type": "code",
   "execution_count": 12,
   "id": "d6673a48",
   "metadata": {},
   "outputs": [
    {
     "data": {
      "text/html": [
       "<div>\n",
       "<style scoped>\n",
       "    .dataframe tbody tr th:only-of-type {\n",
       "        vertical-align: middle;\n",
       "    }\n",
       "\n",
       "    .dataframe tbody tr th {\n",
       "        vertical-align: top;\n",
       "    }\n",
       "\n",
       "    .dataframe thead th {\n",
       "        text-align: right;\n",
       "    }\n",
       "</style>\n",
       "<table border=\"1\" class=\"dataframe\">\n",
       "  <thead>\n",
       "    <tr style=\"text-align: right;\">\n",
       "      <th></th>\n",
       "      <th>1</th>\n",
       "      <th>2</th>\n",
       "      <th>3</th>\n",
       "    </tr>\n",
       "  </thead>\n",
       "  <tbody>\n",
       "    <tr>\n",
       "      <th>247</th>\n",
       "      <td>1.048137</td>\n",
       "      <td>1.030942</td>\n",
       "      <td>0.987968</td>\n",
       "    </tr>\n",
       "    <tr>\n",
       "      <th>248</th>\n",
       "      <td>0.943704</td>\n",
       "      <td>0.944065</td>\n",
       "      <td>0.955345</td>\n",
       "    </tr>\n",
       "    <tr>\n",
       "      <th>249</th>\n",
       "      <td>1.036107</td>\n",
       "      <td>0.978324</td>\n",
       "      <td>1.002833</td>\n",
       "    </tr>\n",
       "    <tr>\n",
       "      <th>250</th>\n",
       "      <td>0.993939</td>\n",
       "      <td>1.075332</td>\n",
       "      <td>1.033898</td>\n",
       "    </tr>\n",
       "    <tr>\n",
       "      <th>251</th>\n",
       "      <td>0.961890</td>\n",
       "      <td>1.024725</td>\n",
       "      <td>0.982240</td>\n",
       "    </tr>\n",
       "  </tbody>\n",
       "</table>\n",
       "</div>"
      ],
      "text/plain": [
       "            1         2         3\n",
       "247  1.048137  1.030942  0.987968\n",
       "248  0.943704  0.944065  0.955345\n",
       "249  1.036107  0.978324  1.002833\n",
       "250  0.993939  1.075332  1.033898\n",
       "251  0.961890  1.024725  0.982240"
      ]
     },
     "execution_count": 12,
     "metadata": {},
     "output_type": "execute_result"
    }
   ],
   "source": [
    "df.tail()"
   ]
  },
  {
   "cell_type": "code",
   "execution_count": 13,
   "id": "06a280d9",
   "metadata": {},
   "outputs": [
    {
     "data": {
      "text/html": [
       "<div>\n",
       "<style scoped>\n",
       "    .dataframe tbody tr th:only-of-type {\n",
       "        vertical-align: middle;\n",
       "    }\n",
       "\n",
       "    .dataframe tbody tr th {\n",
       "        vertical-align: top;\n",
       "    }\n",
       "\n",
       "    .dataframe thead th {\n",
       "        text-align: right;\n",
       "    }\n",
       "</style>\n",
       "<table border=\"1\" class=\"dataframe\">\n",
       "  <thead>\n",
       "    <tr style=\"text-align: right;\">\n",
       "      <th></th>\n",
       "      <th>1</th>\n",
       "      <th>2</th>\n",
       "      <th>3</th>\n",
       "    </tr>\n",
       "  </thead>\n",
       "  <tbody>\n",
       "    <tr>\n",
       "      <th>252</th>\n",
       "      <td>0.062</td>\n",
       "      <td>0.066</td>\n",
       "      <td>0.07</td>\n",
       "    </tr>\n",
       "  </tbody>\n",
       "</table>\n",
       "</div>"
      ],
      "text/plain": [
       "         1      2     3\n",
       "252  0.062  0.066  0.07"
      ]
     },
     "execution_count": 13,
     "metadata": {},
     "output_type": "execute_result"
    }
   ],
   "source": [
    "#simulatedd risk facotrs generation\n",
    "df_EoD = df_EoD.drop(df_EoD.columns[0],axis=1)\n",
    "df_EoD"
   ]
  },
  {
   "cell_type": "code",
   "execution_count": 14,
   "id": "9415805d",
   "metadata": {},
   "outputs": [],
   "source": [
    "df[\"1\"] = df[\"1\"] * df_EoD.iloc[0,0]\n",
    "df[\"2\"] = df[\"2\"] * df_EoD.iloc[0,1]\n",
    "df[\"3\"] = df[\"3\"] * df_EoD.iloc[0,2]"
   ]
  },
  {
   "cell_type": "code",
   "execution_count": 15,
   "id": "9987973c",
   "metadata": {},
   "outputs": [],
   "source": [
    "df[\"Sim_PL\"]=0\n",
    "df[\"Sim_MTM\"]=0"
   ]
  },
  {
   "cell_type": "code",
   "execution_count": 16,
   "id": "afee4e72",
   "metadata": {},
   "outputs": [
    {
     "name": "stdout",
     "output_type": "stream",
     "text": [
      "VaR of the bond is: 1.91\n"
     ]
    }
   ],
   "source": [
    "#sim mtm generation\n",
    "for row in range(0,len(df)):\n",
    "    R1= df.iloc[row][\"1\"]\n",
    "    R2= df.iloc[row][\"2\"]\n",
    "    R3= df.iloc[row][\"3\"]\n",
    "\n",
    "    sim_coupons = coupon * (math.exp(-1*R1) + math.exp(-2*R2) + math.exp(-3*R3))\n",
    "    sim_facevalue = FV * math.exp(-3*R3)\n",
    "    sim_mtm = sim_coupons + sim_facevalue\n",
    "    \n",
    "    df.iloc[row,df.columns.get_loc(\"Sim_MTM\")] = sim_mtm\n",
    "    \n",
    "df[\"Sim_PL\"] = mtm_today - df[\"Sim_MTM\"]\n",
    "\n",
    "#sorting the sim pl numbers in ascending order\n",
    "\n",
    "df =df.sort_values([\"Sim_PL\"],ascending=True)\n",
    "\n",
    "#lookup in 3rd worset\n",
    "\n",
    "VaR = df.iloc[2][\"Sim_PL\"]* -1\n",
    "\n",
    "print(\"VaR of the bond is:\", np.round(VaR,2))"
   ]
  },
  {
   "cell_type": "code",
   "execution_count": null,
   "id": "d821da3a",
   "metadata": {},
   "outputs": [],
   "source": []
  }
 ],
 "metadata": {
  "kernelspec": {
   "display_name": "Python 3 (ipykernel)",
   "language": "python",
   "name": "python3"
  },
  "language_info": {
   "codemirror_mode": {
    "name": "ipython",
    "version": 3
   },
   "file_extension": ".py",
   "mimetype": "text/x-python",
   "name": "python",
   "nbconvert_exporter": "python",
   "pygments_lexer": "ipython3",
   "version": "3.9.12"
  }
 },
 "nbformat": 4,
 "nbformat_minor": 5
}
